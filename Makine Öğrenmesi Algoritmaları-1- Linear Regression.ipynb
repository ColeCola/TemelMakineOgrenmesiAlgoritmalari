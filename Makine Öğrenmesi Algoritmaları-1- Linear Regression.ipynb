{
 "cells": [
  {
   "cell_type": "markdown",
   "metadata": {},
   "source": [
    "# Doğrusal Regresyon(Linear Regression)\n",
    "Açıklaması:\n",
    "En popüler makine öğrenme algoritması ve kesinlikle en çok tercih edilen algorirtmadır. \n",
    "\n",
    "Doğrusal regresyon:Sürekli özelliklere dayalı bir sonucu öngören denetimli bir öğrenme algoritmasıdır. Doğrusal regresyon, tek bir değişken (basit doğrusal regresyon) veya birçok özellik üzerinde (çoklu doğrusal regresyon) çalışabilme yeteneğine sahip olması bakımından çok yönlüdür. Çalışma şekli, çıktıyı tahmin etmek için kullanılacak bir satır (ax + b) oluşturmak için değişkenlere en uygun ağırlıkları atamaktır. Daha kapsamlı bir açıklama için aşağıdaki videoya göz atın.\n",
    "\n",
    "[link](https://www.youtube.com/watch?v=zPG4NjIkCjc&feature=youtu.be)"
   ]
  },
  {
   "cell_type": "markdown",
   "metadata": {},
   "source": [
    "## Gerekli Kütüphaneleri Yüklüyoruz"
   ]
  },
  {
   "cell_type": "code",
   "execution_count": 1,
   "metadata": {},
   "outputs": [],
   "source": [
    "import pandas as pd\n",
    "import matplotlib.pyplot as plt\n",
    "import numpy as np\n",
    "import seaborn as sns\n",
    "%matplotlib inline"
   ]
  },
  {
   "cell_type": "markdown",
   "metadata": {},
   "source": [
    "## Veri setimizden ilgili dosyayı ekliyoruz"
   ]
  },
  {
   "cell_type": "code",
   "execution_count": 2,
   "metadata": {},
   "outputs": [
    {
     "data": {
      "text/html": [
       "<div>\n",
       "<style scoped>\n",
       "    .dataframe tbody tr th:only-of-type {\n",
       "        vertical-align: middle;\n",
       "    }\n",
       "\n",
       "    .dataframe tbody tr th {\n",
       "        vertical-align: top;\n",
       "    }\n",
       "\n",
       "    .dataframe thead th {\n",
       "        text-align: right;\n",
       "    }\n",
       "</style>\n",
       "<table border=\"1\" class=\"dataframe\">\n",
       "  <thead>\n",
       "    <tr style=\"text-align: right;\">\n",
       "      <th></th>\n",
       "      <th>X</th>\n",
       "      <th>Y</th>\n",
       "    </tr>\n",
       "  </thead>\n",
       "  <tbody>\n",
       "    <tr>\n",
       "      <th>0</th>\n",
       "      <td>108</td>\n",
       "      <td>392.5</td>\n",
       "    </tr>\n",
       "    <tr>\n",
       "      <th>1</th>\n",
       "      <td>19</td>\n",
       "      <td>46.2</td>\n",
       "    </tr>\n",
       "    <tr>\n",
       "      <th>2</th>\n",
       "      <td>13</td>\n",
       "      <td>15.7</td>\n",
       "    </tr>\n",
       "    <tr>\n",
       "      <th>3</th>\n",
       "      <td>124</td>\n",
       "      <td>422.2</td>\n",
       "    </tr>\n",
       "    <tr>\n",
       "      <th>4</th>\n",
       "      <td>40</td>\n",
       "      <td>119.4</td>\n",
       "    </tr>\n",
       "  </tbody>\n",
       "</table>\n",
       "</div>"
      ],
      "text/plain": [
       "     X      Y\n",
       "0  108  392.5\n",
       "1   19   46.2\n",
       "2   13   15.7\n",
       "3  124  422.2\n",
       "4   40  119.4"
      ]
     },
     "execution_count": 2,
     "metadata": {},
     "output_type": "execute_result"
    }
   ],
   "source": [
    "from sklearn import linear_model\n",
    "df = pd.read_csv('../saitalay/linear_regression_df.csv')\n",
    "df.columns = ['X', 'Y']\n",
    "df.head()"
   ]
  },
  {
   "cell_type": "markdown",
   "metadata": {},
   "source": [
    "## Algoritmamızı Görselleştiriyoruz"
   ]
  },
  {
   "cell_type": "code",
   "execution_count": 3,
   "metadata": {},
   "outputs": [
    {
     "data": {
      "text/plain": [
       "Text(0.5,10.256,'Bağımsız değişken')"
      ]
     },
     "execution_count": 3,
     "metadata": {},
     "output_type": "execute_result"
    },
    {
     "data": {
      "image/png": "[encoded data removed]",
      "text/plain": [
       "<matplotlib.figure.Figure at 0x1a10c63e10>"
      ]
     },
     "metadata": {},
     "output_type": "display_data"
    }
   ],
   "source": [
    "sns.set_context(\"notebook\", font_scale = 1.1)\n",
    "sns.set_style(\"ticks\")\n",
    "sns.lmplot('X', 'Y', data = df)\n",
    "plt.ylabel('Bağımlı Değişken-Hedef')\n",
    "plt.xlabel('Bağımsız değişken')"
   ]
  },
  {
   "cell_type": "markdown",
   "metadata": {},
   "source": [
    "## Modelimizi eğitip  sonuçlarını görüntülüyoruz."
   ]
  },
  {
   "cell_type": "code",
   "execution_count": 4,
   "metadata": {},
   "outputs": [
    {
     "name": "stdout",
     "output_type": "stream",
     "text": [
      "Katsayılar: \n",
      " [[3.43948437]]\n",
      "Ara Değerler(Intersept): \n",
      " [24.00493255]\n",
      "R2 değeri : \n",
      " 0.7036549053548855\n"
     ]
    }
   ],
   "source": [
    "linear = linear_model.LinearRegression()\n",
    "trainX = np.asarray(df.X[20:len(df.X)]).reshape(-1, 1)\n",
    "trainY = np.asarray(df.Y[20:len(df.Y)]).reshape(-1, 1)\n",
    "testX = np.asarray(df.X[:20]).reshape(-1, 1)\n",
    "testY = np.asarray(df.Y[:20]).reshape(-1, 1)\n",
    "linear.fit(trainX, trainY)\n",
    "linear.score(trainX, trainY)\n",
    "print('Katsayılar: \\n', linear.coef_)\n",
    "print('Ara Değerler(Intersept): \\n', linear.intercept_)\n",
    "print('R2 değeri : \\n', linear.score(trainX, trainY))\n",
    "predicted = linear.predict(testX)"
   ]
  }
 ],
 "metadata": {
  "kernelspec": {
   "display_name": "Python 3",
   "language": "python",
   "name": "python3"
  },
  "language_info": {
   "codemirror_mode": {
    "name": "ipython",
    "version": 3
   },
   "file_extension": ".py",
   "mimetype": "text/x-python",
   "name": "python",
   "nbconvert_exporter": "python",
   "pygments_lexer": "ipython3",
   "version": "3.6.4"
  }
 },
 "nbformat": 4,
 "nbformat_minor": 2
}
